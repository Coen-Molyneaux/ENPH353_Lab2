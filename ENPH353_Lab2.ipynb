{
  "nbformat": 4,
  "nbformat_minor": 0,
  "metadata": {
    "colab": {
      "provenance": [],
      "authorship_tag": "ABX9TyMtBRCIYPJd65pyoi1SrZRS",
      "include_colab_link": true
    },
    "kernelspec": {
      "name": "python3",
      "display_name": "Python 3"
    },
    "language_info": {
      "name": "python"
    }
  },
  "cells": [
    {
      "cell_type": "markdown",
      "metadata": {
        "id": "view-in-github",
        "colab_type": "text"
      },
      "source": [
        "<a href=\"https://colab.research.google.com/github/Coen-Molyneaux/ENPH353_Lab2/blob/main/ENPH353_Lab2.ipynb\" target=\"_parent\"><img src=\"https://colab.research.google.com/assets/colab-badge.svg\" alt=\"Open In Colab\"/></a>"
      ]
    },
    {
      "cell_type": "code",
      "execution_count": null,
      "metadata": {
        "id": "NCt5t4YDziwB",
        "colab": {
          "base_uri": "https://localhost:8080/"
        },
        "outputId": "40131521-51b5-4e37-8b10-99b26e412e76"
      },
      "outputs": [
        {
          "output_type": "stream",
          "name": "stdout",
          "text": [
            "Mounted at /content/drive\n"
          ]
        }
      ],
      "source": [
        "\n",
        "from google.colab import drive\n",
        "drive.mount('/content/drive', force_remount=True)"
      ]
    },
    {
      "cell_type": "code",
      "source": [
        "import cv2\n",
        "import numpy\n",
        "import matplotlib.pyplot as plt\n",
        "\n",
        "VIDEO_IN = \"/content/drive/MyDrive/ENPH_353/LAB_2/raw_video_feed.mp4\"\n",
        "video_capture = cv2.VideoCapture(VIDEO_IN)\n",
        "\n",
        "default_offset = 50\n",
        "\n",
        "def grey_scale(frame) -> numpy.ndarray:\n",
        "  '''\n",
        "  @brief Grey scales an image\n",
        "  @param frame The image to be grey scaled\n",
        "  @return The grey scaled image\n",
        "  '''\n",
        "  return cv2.cvtColor(frame, cv2.COLOR_BGR2GRAY)\n",
        "\n",
        "def blur(frame) -> numpy.ndarray:\n",
        "  '''\n",
        "  @brief Blurs an image\n",
        "  @param frame The image to be blurred\n",
        "  @return The blurred image\n",
        "  '''\n",
        "  return cv2.GaussianBlur(frame, (5, 5), 0)\n",
        "\n",
        "def threshold(frame, threshold_value: int = 130) -> numpy.ndarray:\n",
        "  '''\n",
        "  @brief Thresholds an image\n",
        "  @param frame The image to be thresholded\n",
        "  @param threshold_value The threshold value\n",
        "  @return The thresholded image\n",
        "  '''\n",
        "  thresh_frame = cv2.threshold(frame, threshold_value, 255, cv2.THRESH_BINARY)[1]\n",
        "  return cv2.bitwise_not(thresh_frame)\n",
        "\n",
        "def lower_frame_band(frame, band_height) -> numpy.ndarray:\n",
        "  '''\n",
        "  @brief Gets the lower band of an image\n",
        "  @param frame The image to be processed\n",
        "  @param band_height The height of the band\n",
        "  @return The processed image\n",
        "  '''\n",
        "  height = frame.shape[0]\n",
        "  return frame[height-band_height:height]\n",
        "\n",
        "def process_img(frame, roi_offset=default_offset) -> numpy.ndarray:\n",
        "  '''\n",
        "  @brief Processes an image\n",
        "  @param frame The image to be processed\n",
        "  @param roi_offset The offset of the roi\n",
        "  @return The processed image\n",
        "  '''\n",
        "  grey_img = grey_scale(frame)\n",
        "  blur_img = blur(grey_img)\n",
        "  thresh_img = threshold(blur_img)\n",
        "  return lower_frame_band(thresh_img, roi_offset=roi_offset)\n",
        "\n",
        "\n",
        "def put_dot_on_line(frame: numpy.ndarray, roi: numpy.ndarray, roi_offset: int=default_offset) -> numpy.ndarray:\n",
        "  '''\n",
        "  @brief Puts a dot on the line of an image\n",
        "  @param frame The image to be processed\n",
        "  @param roi The roi to be processed\n",
        "  @param roi_offset The offset of the roi\n",
        "  @return The processed image\n",
        "  '''\n",
        "  moments = cv2.moments(roi)\n",
        "  height = frame.shape[0]\n",
        "  radius = 15\n",
        "  filled = -1\n",
        "  colour = (150,150,0)\n",
        "\n",
        "  if moments['m00'] != 0:\n",
        "    cx = int(moments['m10'] / moments['m00'])\n",
        "    cy = int(moments['m01'] / moments['m00'])\n",
        "  center = (cx, cy + height - roi_offset)\n",
        "\n",
        "  cv2.circle(frame, center, radius, colour, filled)\n",
        "  return frame\n",
        "\n",
        "def frames_to_video(frames, out_path=\"dotted_line.mp4\", fps=15):\n",
        "  '''\n",
        "  @breif Converts a list of frames to a video\n",
        "  @param frames The list of frames\n",
        "  @param out_path The path to the output video\n",
        "  @param fps The frames per second\n",
        "  '''\n",
        "  h, w = frames[0].shape[:2]\n",
        "  writer = cv2.VideoWriter(out_path, cv2.VideoWriter_fourcc(*'mp4v'), fps,(w, h))\n",
        "  for f in frames:\n",
        "    writer.write(f)\n",
        "  writer.release()"
      ],
      "metadata": {
        "id": "vD_AskP0zzbY"
      },
      "execution_count": null,
      "outputs": []
    },
    {
      "cell_type": "code",
      "source": [
        "frames_with_dots = []\n",
        "\n",
        "while True:\n",
        "  read, frame = video_capture.read()\n",
        "  if not read:\n",
        "      break\n",
        "  img_for_detection = process_img(frame)\n",
        "  put_dot_on_line(frame, img_for_detection)\n",
        "  frames_with_dots.append(frame)\n",
        "\n",
        "if frames_with_dots:\n",
        "  frames_to_video(frames_with_dots)\n",
        "  from google.colab import files\n",
        "  files.download(\"dotted_line.mp4\")\n",
        "else:\n",
        "    print(\"No frames captured. Check if the video path is correct or video_capture is opened.\")"
      ],
      "metadata": {
        "colab": {
          "base_uri": "https://localhost:8080/",
          "height": 17
        },
        "id": "omoZtWbV1NQV",
        "outputId": "1ef5fc8a-5230-4e32-c402-b7887766d9ba"
      },
      "execution_count": null,
      "outputs": [
        {
          "output_type": "display_data",
          "data": {
            "text/plain": [
              "<IPython.core.display.Javascript object>"
            ],
            "application/javascript": [
              "\n",
              "    async function download(id, filename, size) {\n",
              "      if (!google.colab.kernel.accessAllowed) {\n",
              "        return;\n",
              "      }\n",
              "      const div = document.createElement('div');\n",
              "      const label = document.createElement('label');\n",
              "      label.textContent = `Downloading \"${filename}\": `;\n",
              "      div.appendChild(label);\n",
              "      const progress = document.createElement('progress');\n",
              "      progress.max = size;\n",
              "      div.appendChild(progress);\n",
              "      document.body.appendChild(div);\n",
              "\n",
              "      const buffers = [];\n",
              "      let downloaded = 0;\n",
              "\n",
              "      const channel = await google.colab.kernel.comms.open(id);\n",
              "      // Send a message to notify the kernel that we're ready.\n",
              "      channel.send({})\n",
              "\n",
              "      for await (const message of channel.messages) {\n",
              "        // Send a message to notify the kernel that we're ready.\n",
              "        channel.send({})\n",
              "        if (message.buffers) {\n",
              "          for (const buffer of message.buffers) {\n",
              "            buffers.push(buffer);\n",
              "            downloaded += buffer.byteLength;\n",
              "            progress.value = downloaded;\n",
              "          }\n",
              "        }\n",
              "      }\n",
              "      const blob = new Blob(buffers, {type: 'application/binary'});\n",
              "      const a = document.createElement('a');\n",
              "      a.href = window.URL.createObjectURL(blob);\n",
              "      a.download = filename;\n",
              "      div.appendChild(a);\n",
              "      a.click();\n",
              "      div.remove();\n",
              "    }\n",
              "  "
            ]
          },
          "metadata": {}
        },
        {
          "output_type": "display_data",
          "data": {
            "text/plain": [
              "<IPython.core.display.Javascript object>"
            ],
            "application/javascript": [
              "download(\"download_93623052-923e-4c54-8690-13edb7045bef\", \"dotted_line.mp4\", 690300)"
            ]
          },
          "metadata": {}
        }
      ]
    }
  ]
}